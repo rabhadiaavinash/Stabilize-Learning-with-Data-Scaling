{
 "cells": [
  {
   "cell_type": "code",
   "execution_count": null,
   "metadata": {},
   "outputs": [],
   "source": []
  },
  {
   "cell_type": "code",
   "execution_count": 1,
   "metadata": {},
   "outputs": [],
   "source": [
    "from sklearn.datasets import make_regression\n",
    "from sklearn.preprocessing import StandardScaler\n",
    "from sklearn.preprocessing import MinMaxScaler\n",
    "from tensorflow.keras.layers import Dense\n",
    "from tensorflow.keras.models import Sequential\n",
    "from tensorflow.keras.optimizers import SGD\n",
    "from matplotlib import pyplot\n",
    "from numpy import mean\n",
    "from numpy import std"
   ]
  },
  {
   "cell_type": "code",
   "execution_count": null,
   "metadata": {},
   "outputs": [],
   "source": []
  },
  {
   "cell_type": "code",
   "execution_count": 2,
   "metadata": {},
   "outputs": [],
   "source": [
    "# prepare dataset with input and output scalers, can be none\n",
    "def get_dataset(input_scaler, output_scaler):\n",
    "    \n",
    "    # generate dataset\n",
    "    X, y = make_regression(n_samples=1000, n_features=20, noise=0.1, random_state=1)\n",
    "    # split into train and test\n",
    "    n_train = 500\n",
    "    trainX, testX = X[:n_train, :], X[n_train:, :]\n",
    "    trainy, testy = y[:n_train], y[n_train:]\n",
    "\n",
    "    # scale inputs\n",
    "    if input_scaler is not None:\n",
    "        # fit scaler\n",
    "        input_scaler.fit(trainX)\n",
    "        # transform training dataset\n",
    "        trainX = input_scaler.transform(trainX)\n",
    "        # transform test dataset\n",
    "        testX = input_scaler.transform(testX)\n",
    "\n",
    "    if output_scaler is not None:\n",
    "        # reshape 1d arrays to 2d arrays\n",
    "        trainy = trainy.reshape(len(trainy), 1)\n",
    "        testy = testy.reshape(len(trainy), 1)\n",
    "        # fit scaler on training dataset\n",
    "        output_scaler.fit(trainy)\n",
    "        # transform training dataset\n",
    "        trainy = output_scaler.transform(trainy)\n",
    "        # transform test dataset\n",
    "        testy = output_scaler.transform(testy)\n",
    "    return trainX, trainy, testX, testy"
   ]
  },
  {
   "cell_type": "code",
   "execution_count": null,
   "metadata": {},
   "outputs": [],
   "source": []
  },
  {
   "cell_type": "code",
   "execution_count": 3,
   "metadata": {},
   "outputs": [],
   "source": [
    "# fit and evaluate mse of model on test set\n",
    "def evaluate_model(trainX, trainy, testX, testy):\n",
    "    \n",
    "    # define model\n",
    "    model = Sequential()\n",
    "    model.add(Dense(25, input_dim=20, activation='relu', kernel_initializer='he_uniform'))\n",
    "    model.add(Dense(1, activation='linear'))\n",
    "\n",
    "    # compile model\n",
    "    model.compile(loss='mean_squared_error', optimizer=SGD(lr=0.01, momentum=0.9))\n",
    "\n",
    "    # fit model\n",
    "    model.fit(trainX, trainy, epochs=100, verbose=0)\n",
    "\n",
    "    # evaluate the model\n",
    "    test_mse = model.evaluate(testX, testy, verbose=0)\n",
    "    return test_mse"
   ]
  },
  {
   "cell_type": "code",
   "execution_count": null,
   "metadata": {},
   "outputs": [],
   "source": []
  },
  {
   "cell_type": "code",
   "execution_count": 4,
   "metadata": {},
   "outputs": [],
   "source": [
    "# evaluate model multiple times with given input and output scalers\n",
    "def repeated_evaluation(input_scaler, output_scaler, n_repeats=30):\n",
    "    \n",
    "    # get dataset\n",
    "    trainX, trainy, testX, testy = get_dataset(input_scaler, output_scaler)\n",
    "    # repeated evaluation of model \n",
    "    results = list()\n",
    "    for _ in range(n_repeats):\n",
    "        test_mse = evaluate_model(trainX, trainy, testX, testy)\n",
    "        print('>%.3f' % test_mse)\n",
    "        results.append(test_mse)\n",
    "    return results    "
   ]
  },
  {
   "cell_type": "code",
   "execution_count": null,
   "metadata": {},
   "outputs": [],
   "source": []
  },
  {
   "cell_type": "code",
   "execution_count": 5,
   "metadata": {},
   "outputs": [
    {
     "name": "stdout",
     "output_type": "stream",
     "text": [
      ">0.008\n",
      ">0.008\n",
      ">0.010\n",
      ">0.003\n",
      ">0.013\n",
      ">0.003\n",
      ">0.012\n",
      ">0.000\n",
      ">0.001\n",
      ">0.010\n",
      ">0.008\n",
      ">0.004\n",
      ">0.009\n",
      ">0.009\n",
      ">0.012\n",
      ">0.008\n",
      ">0.007\n",
      ">0.006\n",
      ">0.010\n",
      ">0.009\n",
      ">0.003\n",
      ">0.011\n",
      ">0.009\n",
      ">0.001\n",
      ">0.001\n",
      ">0.006\n",
      ">0.012\n",
      ">0.008\n",
      ">0.003\n",
      ">0.006\n",
      ">0.001\n",
      ">0.000\n",
      ">0.001\n",
      ">0.000\n",
      ">0.000\n",
      ">0.001\n",
      ">0.001\n",
      ">0.001\n",
      ">0.001\n",
      ">0.001\n",
      ">0.001\n",
      ">0.000\n",
      ">0.000\n",
      ">0.001\n",
      ">0.000\n",
      ">0.000\n",
      ">0.000\n",
      ">0.000\n",
      ">0.000\n",
      ">0.000\n",
      ">0.000\n",
      ">0.001\n",
      ">0.001\n",
      ">0.001\n",
      ">0.000\n",
      ">0.001\n",
      ">0.001\n",
      ">0.000\n",
      ">0.001\n",
      ">0.000\n",
      ">0.003\n",
      ">0.012\n",
      ">0.005\n",
      ">0.002\n",
      ">0.011\n",
      ">0.004\n",
      ">0.000\n",
      ">0.001\n",
      ">0.013\n",
      ">0.005\n",
      ">0.006\n",
      ">0.005\n",
      ">0.010\n",
      ">0.008\n",
      ">0.008\n",
      ">0.006\n",
      ">0.016\n",
      ">0.005\n",
      ">0.002\n",
      ">0.000\n",
      ">0.002\n",
      ">0.006\n",
      ">0.014\n",
      ">0.007\n",
      ">0.010\n",
      ">0.008\n",
      ">0.010\n",
      ">0.009\n",
      ">0.009\n",
      ">0.003\n"
     ]
    }
   ],
   "source": [
    "# unscaled inputs\n",
    "results_unscaled_inputs = repeated_evaluation(None, StandardScaler())\n",
    "# normalized inputs\n",
    "results_normalized_inputs = repeated_evaluation(MinMaxScaler(), StandardScaler())\n",
    "# standardized inputs\n",
    "results_standardized_inputs = repeated_evaluation(StandardScaler(), StandardScaler())"
   ]
  },
  {
   "cell_type": "code",
   "execution_count": null,
   "metadata": {},
   "outputs": [],
   "source": []
  },
  {
   "cell_type": "code",
   "execution_count": 6,
   "metadata": {},
   "outputs": [
    {
     "name": "stdout",
     "output_type": "stream",
     "text": [
      "Unscaled: 0.007 (0.004)\n",
      "Normalized: 0.000 (0.000)\n",
      "Standardized: 0.007 (0.004)\n"
     ]
    }
   ],
   "source": [
    "# summarize results\n",
    "print('Unscaled: %.3f (%.3f)' % (mean(results_unscaled_inputs),std(results_unscaled_inputs)))\n",
    "print('Normalized: %.3f (%.3f)' % (mean(results_normalized_inputs),std(results_normalized_inputs)))\n",
    "print('Standardized: %.3f (%.3f)' % (mean(results_standardized_inputs),std(results_standardized_inputs)))"
   ]
  },
  {
   "cell_type": "code",
   "execution_count": null,
   "metadata": {},
   "outputs": [],
   "source": [
    "'''Unexpectedly, better performance is seen using normalized\n",
    "inputs instead of standardized inputs. This may be related to the choice of the rectified linear\n",
    "activation function in the first hidden layer.'''"
   ]
  },
  {
   "cell_type": "code",
   "execution_count": null,
   "metadata": {},
   "outputs": [],
   "source": []
  },
  {
   "cell_type": "code",
   "execution_count": null,
   "metadata": {},
   "outputs": [],
   "source": []
  },
  {
   "cell_type": "code",
   "execution_count": null,
   "metadata": {},
   "outputs": [],
   "source": []
  },
  {
   "cell_type": "code",
   "execution_count": 7,
   "metadata": {},
   "outputs": [
    {
     "data": {
      "image/png": "[encoded data removed]",
      "text/plain": [
       "<Figure size 432x288 with 1 Axes>"
      ]
     },
     "metadata": {
      "needs_background": "light"
     },
     "output_type": "display_data"
    }
   ],
   "source": [
    "# plot results\n",
    "results = [results_unscaled_inputs, results_normalized_inputs, results_standardized_inputs]\n",
    "labels = ['unscaled', 'normalized', 'standardized']\n",
    "pyplot.boxplot(results, labels=labels)\n",
    "pyplot.show()"
   ]
  },
  {
   "cell_type": "code",
   "execution_count": null,
   "metadata": {},
   "outputs": [],
   "source": [
    "'''A figure with three box and whisker plots is created summarizing the spread of error scores\n",
    "for each configuration. The plots show that there was little difference between the distributions\n",
    "of error scores for the unscaled and standardized input variables, and that the normalized input\n",
    "variables result in better performance and more stable or a tighter distribution of error scores.'''"
   ]
  },
  {
   "cell_type": "code",
   "execution_count": null,
   "metadata": {},
   "outputs": [],
   "source": [
    "'''These results highlight that it is important to actually experiment and confirm the results of\n",
    "data scaling methods rather than assuming that a given data preparation scheme will work best\n",
    "based on the observed distribution of the data.'''"
   ]
  },
  {
   "cell_type": "code",
   "execution_count": null,
   "metadata": {},
   "outputs": [],
   "source": []
  },
  {
   "cell_type": "code",
   "execution_count": null,
   "metadata": {},
   "outputs": [],
   "source": []
  }
 ],
 "metadata": {
  "kernelspec": {
   "display_name": "Python 3",
   "language": "python",
   "name": "python3"
  },
  "language_info": {
   "codemirror_mode": {
    "name": "ipython",
    "version": 3
   },
   "file_extension": ".py",
   "mimetype": "text/x-python",
   "name": "python",
   "nbconvert_exporter": "python",
   "pygments_lexer": "ipython3",
   "version": "3.7.1"
  }
 },
 "nbformat": 4,
 "nbformat_minor": 4
}
